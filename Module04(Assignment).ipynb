{
  "nbformat": 4,
  "nbformat_minor": 0,
  "metadata": {
    "colab": {
      "provenance": []
    },
    "kernelspec": {
      "name": "python3",
      "display_name": "Python 3"
    },
    "language_info": {
      "name": "python"
    }
  },
  "cells": [
    {
      "cell_type": "markdown",
      "source": [
        "1. Build a simple webpage that dispalys text as shown in the below image."
      ],
      "metadata": {
        "id": "Vsj0FCPXVGLj"
      }
    },
    {
      "cell_type": "code",
      "execution_count": null,
      "metadata": {
        "id": "JgWabWTLU6m6"
      },
      "outputs": [],
      "source": [
        "<!DOCTYPE html>\n",
        "<html lang=\"en\">\n",
        "<head>\n",
        "    <meta charset=\"UTF-8\">\n",
        "    <meta name=\"viewport\" content=\"width=device-width, initial-scale=1.0\">\n",
        "    <title>Document</title>\n",
        "</head>\n",
        "<body>\n",
        "    <b>This text will be bolded</b>\n",
        "    <br>\n",
        "    <i>this text will be italic</i>\n",
        "    <br>\n",
        "    <u>this text will be underlined</u>\n",
        "    <br>\n",
        "    <mark>this text will be marked</mark>\n",
        "    <br>\n",
        "    this is normal text<sup>this will be super scripted</sup>this is normal again.\n",
        "    <br>\n",
        "    this is normal text<sub>this text will be subscipted</sub>\n",
        "    <br>\n",
        "    Normal text<small> Small text</small>\n",
        "    <br>\n",
        "    <del>this text will be deleted</del>\n",
        "</body>\n",
        "</html>"
      ]
    },
    {
      "cell_type": "markdown",
      "source": [
        "2. Build a simple webpage that helps users navigate different web development-related website.Note:On clicking the hyperlink the wed pages should open in a new tab.Below is reference image."
      ],
      "metadata": {
        "id": "LM84iwA0VFA9"
      }
    },
    {
      "cell_type": "code",
      "source": [
        "<!DOCTYPE html>\n",
        "<html lang=\"en\">\n",
        "<head>\n",
        "    <meta charset=\"UTF-8\">\n",
        "    <meta name=\"viewport\" content=\"width=device-width, initial-scale=1.0\">\n",
        "    <title>Document</title>\n",
        "</head>\n",
        "<body>\n",
        "    <main>\n",
        "        click here to open <a href=\"https://pwskills.com/\" target=\"_blank\">PW Skills</a>\n",
        "        <br>\n",
        "        click here to open <a href=\"https://developer.mozilla.org/en-US/\" target=\"_blank\">MDN docs</a>\n",
        "        <br>\n",
        "        click here to open <a href=\"https://lab.pwskills.com/?_gl=1*1udvshv*_gcl_au*MTU2ODk2MTkwNi4xNzQ0MTE1OTY0\" target=\"_blank\">PW Skills Lab</a>\n",
        "    </main>\n",
        "</body>\n",
        "</html>"
      ],
      "metadata": {
        "id": "ycX9R1aiY1J0"
      },
      "execution_count": null,
      "outputs": []
    },
    {
      "cell_type": "markdown",
      "source": [
        "3. Build a simple blog web page with 3 pages home, web development, and web design. Each page must contain hyperlinks to other pages in the top, a heading of the page topic and a paragraph of information. For the home page you can add some information about yourself."
      ],
      "metadata": {
        "id": "qFtw8Ze5bDEr"
      }
    },
    {
      "cell_type": "markdown",
      "source": [
        "PAGE 1"
      ],
      "metadata": {
        "id": "dubrwyRIwyZI"
      }
    },
    {
      "cell_type": "code",
      "source": [
        "<!DOCTYPE html>\n",
        "<html lang=\"en\">\n",
        "<head>\n",
        "    <meta charset=\"UTF-8\">\n",
        "    <meta name=\"viewport\" content=\"width=device-width, initial-scale=1.0\">\n",
        "    <title>Home</title>\n",
        "</head>\n",
        "<body>\n",
        "    <header>\n",
        "        click here to go <a href=\"http://127.0.0.1:3000/webdevelopment.html\" target=\"_blank\">NEXT PAGE</a>\n",
        "    </header>\n",
        "    <main>\n",
        "        <h1><b><center>Some Information About Me</center></b></h1>\n",
        "        <hr>\n",
        "        <p>“Hi everyone! My name is Nishant, and I’m 23 years old. I’m currently a Btech student, working on building my skills and learning new things every day. I’m passionate about growing both personally and professionally, and I’m excited about the journey ahead!”</p>\n",
        "\n",
        "    </main>\n",
        "</body>\n",
        "</html>"
      ],
      "metadata": {
        "id": "2RQILS-Mwl7Y"
      },
      "execution_count": null,
      "outputs": []
    },
    {
      "cell_type": "markdown",
      "source": [
        "PAGE 2"
      ],
      "metadata": {
        "id": "paFL_7sTw8ID"
      }
    },
    {
      "cell_type": "code",
      "source": [
        "<!DOCTYPE html>\n",
        "<html lang=\"en\">\n",
        "<head>\n",
        "    <meta charset=\"UTF-8\">\n",
        "    <meta name=\"viewport\" content=\"width=device-width, initial-scale=1.0\">\n",
        "    <title>web development</title>\n",
        "</head>\n",
        "<body>\n",
        "    <header>\n",
        "        Click here go <a href=\"http://127.0.0.1:3000/webdesign.html\" target=\"_blank\"> NEXT PAGE</a>\n",
        "    </header>\n",
        "    <main>\n",
        "        <h1><center><b>WEB DEVELOPMENT</b></center></h1>\n",
        "        <hr>\n",
        "        <p>Web development is the process of creating websites and web applications that are accessible through the internet. It involves building and maintaining everything from simple static websites to complex web-based applications, social media platforms, and online stores. Web development combines creativity with technical skills and plays a major role in shaping the digital world we interact with every day.</p>\n",
        "        <p>Web development is typically divided into two main parts: frontend and backend. Frontend development focuses on the user interface — what users see and interact with in a browser. This includes HTML, CSS, and JavaScript. Backend development, on the other hand, handles the server-side logic, databases, and APIs. Languages like Java, Python, PHP, and frameworks like Node.js or Spring Boot are often used for backend development.</p>\n",
        "        <h2><u>FRONTEND DEVELOPMENT</u></h2>\n",
        "        <p>Frontend development refers to the part of web development that focuses on the visual and interactive elements of a website or web application. It’s what users see and interact with directly in their browser. Everything from buttons, images, and layouts to animations and forms is created by frontend developers. The goal is to build user-friendly, responsive, and visually appealing interfaces.</p>\n",
        "        <h2><u>BACKEND DEVELOPMENT</u></h2>\n",
        "        <p>Frontend development refers to the part of web development that focuses on the visual and interactive elements of a website or web application. It’s what users see and interact with directly in their browser. Everything from buttons, images, and layouts to animations and forms is created by frontend developers. The goal is to build user-friendly, responsive, and visually appealing interfaces.</p>\n",
        "\n",
        "    </main>\n",
        "</body>\n",
        "</html>"
      ],
      "metadata": {
        "id": "6YgkUWhkw92_"
      },
      "execution_count": null,
      "outputs": []
    },
    {
      "cell_type": "markdown",
      "source": [
        "PAGE 3"
      ],
      "metadata": {
        "id": "iFv3cyWjxB8t"
      }
    },
    {
      "cell_type": "code",
      "source": [
        "<!DOCTYPE html>\n",
        "<html lang=\"en\">\n",
        "<head>\n",
        "    <meta charset=\"UTF-8\">\n",
        "    <meta name=\"viewport\" content=\"width=device-width, initial-scale=1.0\">\n",
        "    <title>web design</title>\n",
        "</head>\n",
        "<body>\n",
        "    <header>\n",
        "        Click here to go<a href=\"http://127.0.0.1:3000/home.html\" target=\"_blank\"> FIRST PAGE</a>\n",
        "    </header>\n",
        "    <main>\n",
        "        <h1><center><u>WEB DESIGN</u></center></h1>\n",
        "        <p>Web design is the process of planning and creating the visual layout, structure, and overall look of websites. It focuses on how a website looks and feels to users. Web design involves choosing colors, fonts, images, layouts, and interactive elements to make the user experience smooth, attractive, and easy to navigate.</p>\n",
        "        <p>A well-designed website leaves a strong first impression on visitors. Good web design improves usability, helps deliver information effectively, and builds trust with users. If a website is visually appealing and easy to use, visitors are more likely to stay longer, explore the content, and come back again.</p>\n",
        "    </main>\n",
        "</body>\n",
        "</html>"
      ],
      "metadata": {
        "id": "_KJ4g3lFxDhK"
      },
      "execution_count": null,
      "outputs": []
    },
    {
      "cell_type": "markdown",
      "source": [
        "4. Create an odered list of HTML tags. Each list item must include the tag name and some information about tag."
      ],
      "metadata": {
        "id": "UM3_pQKkxKZz"
      }
    },
    {
      "cell_type": "code",
      "source": [
        "<!DOCTYPE html>\n",
        "<html lang=\"en\">\n",
        "<head>\n",
        "    <meta charset=\"UTF-8\">\n",
        "    <meta name=\"viewport\" content=\"width=device-width, initial-scale=1.0\">\n",
        "    <title>Tags</title>\n",
        "</head>\n",
        "<body>\n",
        "    <header>\n",
        "        <h1><center><u>LIST OF HTML TAGS</u></center></h1>\n",
        "    </header>\n",
        "    <main>\n",
        "        <h2><u>Basic Structure Tags</u></h2>\n",
        "        <ol>\n",
        "            <li>html tag<ul><li>Root of HTML document.</li></ul></li>\n",
        "            <li>head tag<ul><li>Contains meta info, title, links,etc..</li></ul></li>\n",
        "            <li>Title tag<ul><li>this tag is used to give title of the web page.</li></ul></li>\n",
        "            <li>Body tag<ul><li>this tag contain content that display on webpage.</li></ul></li>\n",
        "        </ol>\n",
        "        <h2><u>Text Formatting Tags</u></h2>\n",
        "        <oL>\n",
        "            <li>h1 to h6 tags<ul><li>this tags is used to give heading of our content(h1 is largest). </li></ul></li>\n",
        "            <li>p tag(paragraph tag)<ul><li>this tag is used for write some paragraph.</li></ul></li>\n",
        "            <li>br tag(line break tag)<ul><li>this tag is used for line break</li></ul></li>\n",
        "            <li>hr tag <ul><li>this tag display horizontal line.</li></ul></li>\n",
        "            <li>u tag(underlined tag)<ul><li>this tag underline the content.</li></ul></li>\n",
        "            <l1>small tag<ul><li>this tag small the font of content.</li></ul></l1>\n",
        "            <li>mark tag<ul><li>this tag is used to mark content.</li></ul></li>\n",
        "        </oL>\n",
        "        <h2><u>Links and Media Tags</u></h2>\n",
        "        <ol>\n",
        "            <li>a tag(anchor tag)<ul><li>this tag is used for write some link in our web page.</li></ul></li>\n",
        "            <li>img tag<ul><li>this tag is used for give some images on our web page.</li></ul></li>\n",
        "            <li>video tag<ul><li>this tag is used for give some video on our web page</li></ul></li>\n",
        "            <li>audio tag<ul><li>this tag is used for give some audio on our web page</li></ul></li>\n",
        "        </ol>\n",
        "        <h2><u>List Tags</u></h2>\n",
        "        <ol>\n",
        "            <li>ul tag(unordered list tag)<ul><li>this tag is used to make unoredered list.</li></ul></li>\n",
        "            <li>ol tag(ordered list tag)<ul><li>this tag is used to make ordered list.</li></ul></li>\n",
        "            <li>li tag<ul><li>this tag is used to write list items.</li></ul></li>\n",
        "        </ol>\n",
        "        <h2><u>Other Useful Tags</u></h2>\n",
        "        <ol>\n",
        "        <li>form tag<ul><li>this tag is used to make forms.</li></ul></li>\n",
        "        <li>input tag<ul><li>this tag used when we need to take input from user.</li></ul></li>\n",
        "        <li>table tag<ul><li>this tag is used to make table.</li></ul></li>\n",
        "        </ol>\n",
        "    </main>\n",
        "</body>\n",
        "</html>"
      ],
      "metadata": {
        "id": "lYARr9Sxy_Ir"
      },
      "execution_count": null,
      "outputs": []
    },
    {
      "cell_type": "markdown",
      "source": [
        "5. Create a discription of full stack web development tech stack, using the <dl tag. Each term should be a stack name and each discription should be a brief explanation of what the tech stack is used for."
      ],
      "metadata": {
        "id": "Jx_2HQZnSUWv"
      }
    },
    {
      "cell_type": "code",
      "source": [
        "<!DOCTYPE html>\n",
        "<html lang=\"en\">\n",
        "<head>\n",
        "    <meta charset=\"UTF-8\">\n",
        "    <meta name=\"viewport\" content=\"width=device-width, initial-scale=1.0\">\n",
        "    <title>web development</title>\n",
        "</head>\n",
        "<body>\n",
        "    <header>\n",
        "          <h1><center><u>WEB DEVELOPMENT TECH STACK</u></center></h1>\n",
        "    </header>\n",
        "    <main>\n",
        "        <dl>\n",
        "            <dt>HTML</dt>\n",
        "            <dd>HTML stands for hyper text markup language.It build the structure of web page.It tell the browser what to display and how to display it.It use tags like heading tag, img tag, p tag, etc..</dd>\n",
        "            <dt>\n",
        "                CSS\n",
        "            </dt>\n",
        "            <dd>\n",
        "                CSS stands for Cascading Style Sheets. It uses to style and design HTML elements on a web page. While HTML give structure CSS makes it look good by adding colour and extra texture.\n",
        "            </dd>\n",
        "        </dl>\n",
        "        <dl>\n",
        "            <dt>JAVA SCRIPT</dt>\n",
        "            <dd>JAVA SCRIPT is a programming language used to make web page more intractive and dynamic.While HTML gives structure and CSS gives style, JAVA SCRIPT adds life to website. </dd>\n",
        "        </dl>\n",
        "        <dl>\n",
        "            <dt>REACT</dt>\n",
        "            <dd>REACT is a java script library used to build user interfernce(UI).It helps developers build fast, dynamic, and interactive web apps with reusable components. </dd>\n",
        "        </dl>\n",
        "        <dl>\n",
        "            <dt>NODE.js</dt>\n",
        "            <dd>It helps developers build fast, dynamic, and interactive web apps with reusable components. It is used for backend delevoping..</dd>\n",
        "        </dl>\n",
        "        <dl>\n",
        "            <dt>MONGO DB</dt>\n",
        "            <dd>MongoDB is a NoSQL database that stores data in a flexible, JSON-like format called documents. MongoDB is used to store and manage data for web applications — like user info, messages, product details, etc.</dd>\n",
        "        </dl>\n",
        "    </main>\n",
        "</body>\n",
        "</html>"
      ],
      "metadata": {
        "id": "rExN3o0uTnhM"
      },
      "execution_count": null,
      "outputs": []
    },
    {
      "cell_type": "markdown",
      "source": [
        "6. Create an ordered list of the full stack web development tech stack HTML, CSS ,and JS. For each tech stack, create a table that lists the stack name, its primary uses cases, and some key features or benefits. below is a refrence image."
      ],
      "metadata": {
        "id": "2iWx1fKmZRxm"
      }
    },
    {
      "cell_type": "code",
      "source": [
        "<!DOCTYPE html>\n",
        "<html lang=\"en\">\n",
        "<head>\n",
        "    <meta charset=\"UTF-8\">\n",
        "    <meta name=\"viewport\" content=\"width=device-width, initial-scale=1.0\">\n",
        "    <title>tech stack list</title>\n",
        "</head>\n",
        "<body>\n",
        "    <header>\n",
        "        <h1><center><u>FULL STACK WEB DEVELOPMENT</u></center></h1>\n",
        "    </header>\n",
        "    <main>\n",
        "        <h2><u>HTML</u></h2>\n",
        "        <table border=\"1\" cellspacing=\"2\" cellpadding=\"5\">\n",
        "            <tr>\n",
        "            <th bgcolor=\"grey\">Primary Use Cases</th>\n",
        "            <th bgcolor=\"grey\">key feature benefits</th>\n",
        "            </tr>\n",
        "            <tr>\n",
        "                <td>\n",
        "                    <ul>\n",
        "                        <li>It is used to make structure of web page.\n",
        "                        </li>\n",
        "                        <li>It tells the browser what to display and how to display it. </li>\n",
        "                    </ul>\n",
        "                </td>\n",
        "                <td>\n",
        "                    <ul>\n",
        "                        <li>Simple and Easy to learn.</li>\n",
        "                        <li>Compatible with all web browser</li>\n",
        "                        <li>Allows for semantic markup.</li>\n",
        "                    </ul>\n",
        "                </td>\n",
        "            </tr>\n",
        "        </table>\n",
        "        <h2><u>CSS</u></h2>\n",
        "        <table border=\"1\" cellspacing=\"2\" cellpadding=\"5\">\n",
        "            <tr>\n",
        "                <th bgcolor=\"grey\">Primary Use Cases</th>\n",
        "                <th bgcolor=\"grey\">key feature benefits</th>\n",
        "            </tr>\n",
        "            <tr>\n",
        "                <td>\n",
        "                    <ul>\n",
        "                        <li>It is used for style and design HTML elements on web page.</li>\n",
        "                    </ul>\n",
        "                </td>\n",
        "                <td>\n",
        "                    <ul>\n",
        "                        <li>Allow for sepration of content and presentation.</li>\n",
        "                        <li>Enables responsive design</li>\n",
        "                        <li>Offers a wide range of styling option.</li>\n",
        "                    </ul>\n",
        "                </td>\n",
        "            </tr>\n",
        "        </table>\n",
        "        <h2><u>JAVA SCRIPT</u></h2>\n",
        "        <table border=\"1\" cellpadding=\"5\" cellspacing=\"2\">\n",
        "            <tr>\n",
        "                <th bgcolor=\"grey\">Primary Use Cases</th>\n",
        "                <th bgcolor=\"grey\">key feature benefits</th>\n",
        "            </tr>\n",
        "            <tr>\n",
        "                <td>\n",
        "                    <ul>\n",
        "                        <li>JavaScript is a programming language used to make web pages interactive and dynamic.</li>\n",
        "                    </ul>\n",
        "                </td>\n",
        "                <td>\n",
        "                    <ul>\n",
        "                        <li>Client-Side Interactivity.</li>\n",
        "                        <li>Fast Execution.</li>\n",
        "                        <li>Huge Community.</li>\n",
        "                    </ul>\n",
        "                </td>\n",
        "            </tr>\n",
        "        </table>\n",
        "    </main>\n",
        "</body>\n",
        "</html>"
      ],
      "metadata": {
        "id": "fySGtxc_uSYw"
      },
      "execution_count": null,
      "outputs": []
    },
    {
      "cell_type": "markdown",
      "source": [
        "7. Build a complex nested list structure representing a multi-level table of contents.Use unordered lists (<ul) and list iteam (<li) with inline-block styling to create a structured layout. Apply formatting tags to enhance the presentation of list items."
      ],
      "metadata": {
        "id": "-ja3vlUzuWEY"
      }
    },
    {
      "cell_type": "code",
      "source": [
        "<!DOCTYPE html>\n",
        "<html lang=\"en\">\n",
        "<head>\n",
        "    <meta charset=\"UTF-8\">\n",
        "    <meta name=\"viewport\" content=\"width=device-width, initial-scale=1.0\">\n",
        "    <title>Nested List</title>\n",
        "</head>\n",
        "<body>\n",
        "    <header>\n",
        "        <h1><center><u>NESTED LIST</u></center></h1>\n",
        "    </header>\n",
        "    <main>\n",
        "        <ul>\n",
        "            <li><u>Part 1 : Introduction</u></li>\n",
        "            <li><u>Part 2 : Getting Started</u>\n",
        "            <ul>\n",
        "                <li><u>2.1 Installing the Softwer</u></li>\n",
        "                <li><u>2.2 Creating a New Project</u>\n",
        "                <ul>\n",
        "                    <li><u>2.2.1 Project Template</u></li>\n",
        "                    <li><u>2.2.2 Customizing Settings</u></li>\n",
        "                </ul></li>\n",
        "                <li><u>2.3 Exploring the interfernce<ul><li><u>2.3.1 Toolbar feature</u></li>\n",
        "                <li><u>2.3.2 Panel Layout</u><ul><li><u>2.3.2.1 Docking Panels</u></li>\n",
        "                <li><u>2.3.2.2 Tabbeb Interface</u></li></ul></li></ul></u></li>\n",
        "            </ul></li>\n",
        "            <li><u>Part 3 : Advanced Topics</u>\n",
        "            <ul>\n",
        "                <li><u>3.1 Working with Plugins</u><ul>\n",
        "                    <li><u>3.1.1 Installing Plugins</u></li>\n",
        "                    <li><u>3.1.2 Plugin Configuration</u></li>\n",
        "                </ul></li>\n",
        "                <li><u>3.2 Customizing The UI</u>\n",
        "                <ul>\n",
        "                    <li><u>3.2.1 Changing Themes</u></li>\n",
        "                    <li><u>3.2.2 Configuring Shortcuts</u></li>\n",
        "                </ul></li>\n",
        "                <li><u>3.3 Optimizing Performance</u><ul>\n",
        "                    <li><u>3.3.1 Caching Startegies</u></li>\n",
        "                    <li><u>3.3.2 Resource Minification</u></li>\n",
        "                </ul></li>\n",
        "            </ul></li>\n",
        "            <li><u>Part 4 : Conclusion</u></li>\n",
        "        </ul>\n",
        "    </main>\n",
        "</body>\n",
        "</html>"
      ],
      "metadata": {
        "id": "WfjOeVvNvfx6"
      },
      "execution_count": null,
      "outputs": []
    },
    {
      "cell_type": "markdown",
      "source": [
        "8. Create a table to display a conference schedule. Each row corresponds to a time slot, and each coloumn corresponds to a room. Some time slot might have multiple sessions running simultaneously in different room. Utilize rowspan and colspan attributes as necessary to acccommodate this complex schedule.(use table attribute \"cellpadding\" to give extra padding in each table cell)."
      ],
      "metadata": {
        "id": "Z7V7GpIwvnJD"
      }
    },
    {
      "cell_type": "code",
      "source": [
        "<!DOCTYPE html>\n",
        "<html lang=\"en\">\n",
        "<head>\n",
        "    <meta charset=\"UTF-8\">\n",
        "    <meta name=\"viewport\" content=\"width=device-width, initial-scale=1.0\">\n",
        "    <title>Document</title>\n",
        "</head>\n",
        "<body>\n",
        "    <header>\n",
        "        <h1><u>Conference Schedule</u></h1>\n",
        "    </header>\n",
        "    <main>\n",
        "        <table border=\"1\" cellspacing=\"2\" cellpadding=\"10\">\n",
        "            <tr>\n",
        "                <th>TIME</th>\n",
        "                <th>Room 1</th>\n",
        "                <th>Room 2</th>\n",
        "                <th>Room 3</th>\n",
        "                <th>Room 4</th>\n",
        "            </tr>\n",
        "            <tr>\n",
        "                <th rowspan=\"3\">9:00 AM - 10:00 AM</th>\n",
        "                <th rowspan=\"2\">Keynote</th>\n",
        "                <th>Session A</th>\n",
        "                <th>Session B</th>\n",
        "                <th rowspan=\"3\">Session C</th>\n",
        "            </tr>\n",
        "            <tr>\n",
        "                <th>Session D</th>\n",
        "                <th>Session E</th>\n",
        "            </tr>\n",
        "            <tr>\n",
        "                <th>10:30 AM - 11:30 AM</th>\n",
        "                <th colspan=\"2\">Session F</th>\n",
        "            </tr>\n",
        "            <tr>\n",
        "                <th>12:00 PM - 1:00 PM</th>\n",
        "                <th colspan=\"4\">LUCH BREAK</th>\n",
        "            </tr>\n",
        "            <tr>\n",
        "                <th rowspan=\"2\">1:00 PM - 2:00 PM</th>\n",
        "                <th>Session G</th>\n",
        "                <th rowspan=\"2\">Session H</th>\n",
        "                <th>Session I</th>\n",
        "                <th>Session j</th>\n",
        "            </tr>\n",
        "            <tr>\n",
        "                <th>Session K</th>\n",
        "                <th>Session L</th>\n",
        "                <th>Session M</th>\n",
        "            </tr>\n",
        "        </table>\n",
        "    </main>\n",
        "</body>\n",
        "</html>"
      ],
      "metadata": {
        "id": "QWeaZwb_xB5o"
      },
      "execution_count": null,
      "outputs": []
    }
  ]
}